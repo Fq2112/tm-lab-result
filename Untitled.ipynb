{
 "cells": [
  {
   "cell_type": "code",
   "execution_count": 19,
   "id": "c18379b7-6669-4aa0-90f2-f7b94acaf7c8",
   "metadata": {},
   "outputs": [
    {
     "name": "stdout",
     "output_type": "stream",
     "text": [
      "Column names are Test ID, Rules\n",
      "Type EOS, Rules 13.9-16.9.\n",
      "Type ACU, Rules 3.9-10.9.\n",
      "Type DOS, Rules >31.\n",
      "Type UTC, Rules <0.2.\n",
      "Type OKA, Rules 0.\n",
      "Type KPL, Rules -1.3-2.1.\n",
      "Processed 7 lines.\n"
     ]
    }
   ],
   "source": [
    "import csv\n",
    "\n",
    "with open('data/rulesets.csv') as rulesets_file:\n",
    "    csv_reader = csv.reader(rulesets_file, delimiter=',')\n",
    "    line_count = 0\n",
    "    for row in csv_reader:\n",
    "        if line_count == 0:\n",
    "            print(f'Column names are {\", \".join(row)}')\n",
    "            line_count += 1\n",
    "        else:\n",
    "            print(f'Type {row[0]}, Rules {row[1]}.')\n",
    "            line_count += 1\n",
    "    print(f'Processed {line_count} lines.')\n"
   ]
  },
  {
   "cell_type": "code",
   "execution_count": 25,
   "id": "9a9e6b7c-9a9e-4897-85e3-be03b1b1bcea",
   "metadata": {},
   "outputs": [
    {
     "name": "stdout",
     "output_type": "stream",
     "text": [
      "{'Test ID': 'Rules', 'EOS': '13.9-16.9', 'ACU': '3.9-10.9', 'DOS': '>31', 'UTC': '<0.2', 'OKA': '0', 'KPL': '-1.3-2.1'}\n"
     ]
    }
   ],
   "source": [
    "import csv\n",
    "\n",
    "with open('data/rulesets.csv') as rulesets_file:\n",
    "    csv_reader = csv.reader(rulesets_file, delimiter=',')\n",
    "    #csv_writer = csv.writer(rulesets_file)\n",
    "    csv_dict = {rows[0]:rows[1] for rows in csv_reader}\n",
    "    print(csv_dict)"
   ]
  },
  {
   "cell_type": "code",
   "execution_count": null,
   "id": "1b4b77a6-bb73-47b6-a1f9-256e248f6705",
   "metadata": {},
   "outputs": [],
   "source": []
  }
 ],
 "metadata": {
  "kernelspec": {
   "display_name": "Python 3 (ipykernel)",
   "language": "python",
   "name": "python3"
  },
  "language_info": {
   "codemirror_mode": {
    "name": "ipython",
    "version": 3
   },
   "file_extension": ".py",
   "mimetype": "text/x-python",
   "name": "python",
   "nbconvert_exporter": "python",
   "pygments_lexer": "ipython3",
   "version": "3.10.1"
  }
 },
 "nbformat": 4,
 "nbformat_minor": 5
}
