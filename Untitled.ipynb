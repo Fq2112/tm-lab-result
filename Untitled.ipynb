{
 "cells": [
  {
   "cell_type": "code",
   "execution_count": 80,
   "id": "1b4b77a6-bb73-47b6-a1f9-256e248f6705",
   "metadata": {
    "tags": []
   },
   "outputs": [
    {
     "name": "stdin",
     "output_type": "stream",
     "text": [
      "Please provide your Test ID:  asdada\n",
      "Please provide your Test Result:  213\n"
     ]
    },
    {
     "name": "stdout",
     "output_type": "stream",
     "text": [
      "wrong\n",
      "wrong\n",
      "wrong\n",
      "wrong\n",
      "wrong\n",
      "wrong\n"
     ]
    }
   ],
   "source": [
    "import csv\n",
    "\n",
    "test_id = input('Please provide your Test ID: ').upper()\n",
    "test_result = float(input('Please provide your Test Result: '))\n",
    "\n",
    "def rulesMoreThan()\n",
    "\n",
    "with open('data/rulesets.csv') as data:\n",
    "    reader = csv.DictReader(data)\n",
    "    for row in reader:\n",
    "        val_id = row['Test ID'].upper()\n",
    "        val_rules = row['Rules']\n",
    "        \n",
    "        if(test_id == val_id):\n",
    "            #regex / other\n",
    "            if(test_result < val_rules):\n",
    "                print('LOWER')\n",
    "            else if(test_result > val_rules):\n",
    "                print('HIGHER')\n",
    "            else:\n",
    "                print('NORMAL')\n",
    "        else:\n",
    "            print(\"Test ID not found\")"
   ]
  },
  {
   "cell_type": "code",
   "execution_count": null,
   "id": "6daf509d-9415-49e8-af87-a88810467387",
   "metadata": {},
   "outputs": [],
   "source": [
    "import csv\n",
    "\n",
    "test_id = input('Please provide your Test ID: ').upper()\n",
    "test_result = float(input('Please provide your Test Result: '))\n",
    "\n",
    "def moreThan(ruleValue,value):\n",
    "    if(ruleValue < value):\n",
    "        print(\"normal\")\n",
    "    else:\n",
    "        print(\"not well\")\n",
    "        \n",
    "def lessThan(ruleValue,value):\n",
    "    if(ruleValue > value):\n",
    "        print(\"normal\")\n",
    "    else:\n",
    "        print(\"not well\")\n",
    "        \n",
    "def rangeSelection(ruleMin,ruleMax,value):\n",
    "    if(ruleMin<=value and ruleMax>=value):\n",
    "       print(\"normal\")\n",
    "    else:\n",
    "        print(\"not well\") \n",
    "\n",
    "def ruleIdentication(rules):\n",
    "    if(rules[0]==\">\"):\n",
    "    moreThan(float(a[1:len(a)]),float(value))\n",
    "    else:\n",
    "        a=rules.split(\" - \")\n",
    "        if(len(a)==2):\n",
    "            rangeSelection(float(a[0]),float(a[1]),float(value))\n",
    "        else:\n",
    "            print(\"wrong\")\n",
    "\n",
    "with open('data/rulesets.csv') as data:\n",
    "    reader = csv.DictReader(data)\n",
    "    for row in reader:\n",
    "        val_id = row['Test ID'].upper()\n",
    "        val_rules = row['Rules']\n",
    "        \n",
    "        if(test_id == val_id):\n",
    "            "
   ]
  }
 ],
 "metadata": {
  "kernelspec": {
   "display_name": "Python 3 (ipykernel)",
   "language": "python",
   "name": "python3"
  },
  "language_info": {
   "codemirror_mode": {
    "name": "ipython",
    "version": 3
   },
   "file_extension": ".py",
   "mimetype": "text/x-python",
   "name": "python",
   "nbconvert_exporter": "python",
   "pygments_lexer": "ipython3",
   "version": "3.10.1"
  }
 },
 "nbformat": 4,
 "nbformat_minor": 5
}
