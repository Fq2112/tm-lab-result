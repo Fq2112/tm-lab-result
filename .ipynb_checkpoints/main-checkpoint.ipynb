{
 "cells": [
  {
   "cell_type": "code",
   "execution_count": 145,
   "id": "6daf509d-9415-49e8-af87-a88810467387",
   "metadata": {},
   "outputs": [
    {
     "name": "stdin",
     "output_type": "stream",
     "text": [
      "Please provide your Test ID:  eos\n",
      "Please provide your Test Result:  12\n"
     ]
    },
    {
     "name": "stdout",
     "output_type": "stream",
     "text": [
      "EOS test result is 12.0 and its reference value is 13.9-16.9, then it's LOWER\n",
      "None\n"
     ]
    }
   ],
   "source": [
    "import csv\n",
    "\n",
    "def equalNumber(testID, refValue, value, ruleValue):\n",
    "    if(value == ruleValue):\n",
    "        print(f\"{testID} test result is {value} and its reference value is {refValue}, then it's NORMAL\")\n",
    "    elif(value > ruleValue):\n",
    "        print(f\"{testID} test result is {value} and its reference value is {refValue}, then it's HIGHER\")\n",
    "    else:\n",
    "        print(f\"{testID} test result is {value} and its reference value is {refValue}, then it's LOWER\")\n",
    "\n",
    "def moreThan(testID, refValue, value, ruleValue):\n",
    "    if(value > ruleValue):\n",
    "        print(f\"{testID} test result is {value} and its reference value is {refValue}, then it's NORMAL\")\n",
    "    else:\n",
    "        print(f\"{testID} test result is {value} and its reference value is {refValue}, then it's LOWER\")\n",
    "    \n",
    "def lessThan(testID, refValue, value, ruleValue):\n",
    "    if(value < ruleValue):\n",
    "        print(f\"{testID} test result is {value} and its reference value is {refValue}, then it's NORMAL\")\n",
    "    else:\n",
    "        print(f\"{testID} test result is {value} and its reference value is {refValue}, then it's HIGHER\")\n",
    "        \n",
    "def rangeSelection(testID, refValue, value, ruleMin, ruleMax):\n",
    "    if(value < ruleMin):\n",
    "        print(f\"{testID} test result is {value} and its reference value is {refValue}, then it's LOWER\")\n",
    "    elif(value > ruleMax):\n",
    "        print(f\"{testID} test result is {value} and its reference value is {refValue}, then it's HIGHER\")\n",
    "    else:\n",
    "        print(f\"{testID} test result is {value} and its reference value is {refValue}, then it's NORMAL\")\n",
    "\n",
    "def labStats(rules):\n",
    "    if(rules.isnumeric()):\n",
    "        equalNumber(input_id, rules, input_result, float(rules))\n",
    "    elif(rules[0] == \">\"): \n",
    "        moreThan(input_id, rules, input_result, float(rules[1:len(rules)]))\n",
    "    elif(rules[0] == \"<\"):\n",
    "        lessThan(input_id, rules, input_result, float(rules[1:len(rules)]))\n",
    "    else:\n",
    "        rangeVal = rules\n",
    "        isNegatif = False\n",
    "\n",
    "        if(rangeVal[0] == \"-\"):\n",
    "            isNegatif = True\n",
    "            rangeVal = rangeVal[1:len(rangeVal)]\n",
    "\n",
    "        indexSeparator = rangeVal.find(\"-\")\n",
    "\n",
    "        ruleMin = float(rangeVal[0:indexSeparator]) * (-1 if isNegatif else 1)\n",
    "        ruleMax = float(rangeVal[indexSeparator + 1:len(rangeVal)])\n",
    "        \n",
    "        rangeSelection(input_id, rules, float(input_result), ruleMin, ruleMax)\n",
    "            \n",
    "with open('data/rulesets.csv') as data:\n",
    "    reader = csv.DictReader(data)\n",
    "    \n",
    "    input_id = input('Please provide your Test ID: ').upper()\n",
    "\n",
    "    for row in reader:\n",
    "        val_id = row['Test ID'].upper()\n",
    "        val_rules = row['Rules']\n",
    "        \n",
    "        if(input_id == val_id):\n",
    "            input_result = float(input('Please provide your Test Result: '))\n",
    "            print(labStats(val_rules))\n",
    "            break\n",
    "    else:\n",
    "        print(f'Test ID \"{input_id}\" not found') "
   ]
  },
  {
   "cell_type": "code",
   "execution_count": null,
   "id": "9cdedf3c-2011-4c91-80e0-f89ab5a4a4b6",
   "metadata": {},
   "outputs": [],
   "source": []
  }
 ],
 "metadata": {
  "kernelspec": {
   "display_name": "Python 3 (ipykernel)",
   "language": "python",
   "name": "python3"
  },
  "language_info": {
   "codemirror_mode": {
    "name": "ipython",
    "version": 3
   },
   "file_extension": ".py",
   "mimetype": "text/x-python",
   "name": "python",
   "nbconvert_exporter": "python",
   "pygments_lexer": "ipython3",
   "version": "3.10.1"
  }
 },
 "nbformat": 4,
 "nbformat_minor": 5
}
