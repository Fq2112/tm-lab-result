{
 "cells": [
  {
   "cell_type": "code",
   "execution_count": 114,
   "id": "6daf509d-9415-49e8-af87-a88810467387",
   "metadata": {},
   "outputs": [
    {
     "name": "stdin",
     "output_type": "stream",
     "text": [
      "Please provide your Test ID:  eos\n",
      "Please provide your Test Result:  23\n"
     ]
    },
    {
     "name": "stdout",
     "output_type": "stream",
     "text": [
      "EOS test result is 23.0 and its reference value is 13.9-16.9, then it's HIGHER\n",
      "None\n"
     ]
    }
   ],
   "source": [
    "import csv\n",
    "\n",
    "def moreThan(testID, refValue, value, ruleValue):\n",
    "    if(value > ruleValue):\n",
    "        print(f\"{testID} test result is {value} and its reference value is {refValue}, then it's NORMAL\")\n",
    "    else:\n",
    "        print(f\"{testID} test result is {value} and its reference value is {refValue}, then it's LOWER\")\n",
    "    \n",
    "def lessThan(testID, refValue, value, ruleValue):\n",
    "    if(value < ruleValue):\n",
    "        print(f\"{testID} test result is {value} and its reference value is {refValue}, then it's NORMAL\")\n",
    "    else:\n",
    "        print(f\"{testID} test result is {value} and its reference value is {refValue}, then it's HIGHER\")\n",
    "        \n",
    "def rangeSelection(testID, refValue, value, ruleMin, ruleMax):\n",
    "    if(value < ruleMin):\n",
    "        print(f\"{testID} test result is {value} and its reference value is {refValue}, then it's LOWER\")\n",
    "    elif(value > ruleMax):\n",
    "        print(f\"{testID} test result is {value} and its reference value is {refValue}, then it's HIGHER\")\n",
    "    else:\n",
    "        print(f\"{testID} test result is {value} and its reference value is {refValue}, then it's NORMAL\")\n",
    "\n",
    "def labStats(rules):\n",
    "    if(rules[0] == \">\"): \n",
    "        moreThan(input_id, rules, input_result, float(rules[1:len(rules)]))\n",
    "    elif(rules[0] == \"<\"):\n",
    "        lessThan(input_id, rules, input_result, float(rules[1:len(rules)]))\n",
    "    else:\n",
    "        a=rules.split(\"-\")\n",
    "        if(len(a)==2):\n",
    "            rangeSelection(input_id, rules, float(input_result), float(a[0]), float(a[1]))\n",
    "        else:\n",
    "            print(\"wrong\")\n",
    "            \n",
    "with open('data/rulesets.csv') as data:\n",
    "    reader = csv.DictReader(data)\n",
    "    \n",
    "    input_id = input('Please provide your Test ID: ').upper()\n",
    "\n",
    "    for row in reader:\n",
    "        val_id = row['Test ID'].upper()\n",
    "        val_rules = row['Rules']\n",
    "        \n",
    "        if(input_id == val_id):\n",
    "            input_result = float(input('Please provide your Test Result: '))\n",
    "            print(labStats(val_rules))\n",
    "            break\n",
    "    else:\n",
    "        print(f'Test ID \"{input_id}\" not found')\n",
    "\n",
    "\n"
   ]
  }
 ],
 "metadata": {
  "kernelspec": {
   "display_name": "Python 3 (ipykernel)",
   "language": "python",
   "name": "python3"
  },
  "language_info": {
   "codemirror_mode": {
    "name": "ipython",
    "version": 3
   },
   "file_extension": ".py",
   "mimetype": "text/x-python",
   "name": "python",
   "nbconvert_exporter": "python",
   "pygments_lexer": "ipython3",
   "version": "3.10.1"
  }
 },
 "nbformat": 4,
 "nbformat_minor": 5
}
